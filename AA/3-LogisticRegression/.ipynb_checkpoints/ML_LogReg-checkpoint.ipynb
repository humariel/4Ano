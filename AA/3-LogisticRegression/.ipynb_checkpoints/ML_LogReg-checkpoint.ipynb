{
 "cells": [
  {
   "cell_type": "markdown",
   "metadata": {},
   "source": [
    "# ML Lab 3 - Logistic Regression\n",
    "\n",
    "## PART 1: Unregularized Logistic Regression ##\n",
    "\n",
    "**Objectives**: Implement Unregularized Logistic Regression and get to see it works on data. "
   ]
  },
  {
   "cell_type": "markdown",
   "metadata": {},
   "source": [
    "**Problem:** Build a Logistic Regression model to predict whether a student gets admitted into a university. Suppose that you are the administrator of a university department and you want to determine each applicant's chance of admission based on their results on two exams. You have historical data from previous applicants that you can use as a training set for Logistic Regression. For each training example, you have the applicant's scores on two exams and the admissions decision. \n",
    "\n",
    "Your task is to build a classification model that estimates an applicant's probability of admission based on the scores from those two exams.\n"
   ]
  },
  {
   "cell_type": "code",
   "execution_count": 1,
   "metadata": {},
   "outputs": [],
   "source": [
    "#Import relevant libraries\n",
    "import numpy as np\n",
    "import matplotlib.pyplot as plt\n",
    "import pandas as pd"
   ]
  },
  {
   "cell_type": "markdown",
   "metadata": {},
   "source": [
    "## Load Data\n",
    "\n",
    "The file *ex2data1.txt* contains the dataset for this problem. The 1st and the 2nd columns are the scores from the exams (X), the 3rd column (y) indicates if the student was admitted (1) or not admitted (0). \n",
    "\n",
    "Load data into the variable df (e.g. using function pd.read_csv from panda library) and then extract X (the features) and y (the labels). "
   ]
  },
  {
   "cell_type": "code",
   "execution_count": 62,
   "metadata": {},
   "outputs": [],
   "source": [
    "data=pd.read_csv('ex2data1.txt',',')\n",
    "\n",
    "X= data.values[:,0:2]\n",
    "y= data.values[:,2]\n",
    "\n",
    "y= np.reshape(y, (np.size(y,0), 1))"
   ]
  },
  {
   "cell_type": "code",
   "execution_count": 11,
   "metadata": {},
   "outputs": [
    {
     "data": {
      "text/html": [
       "<div>\n",
       "<style scoped>\n",
       "    .dataframe tbody tr th:only-of-type {\n",
       "        vertical-align: middle;\n",
       "    }\n",
       "\n",
       "    .dataframe tbody tr th {\n",
       "        vertical-align: top;\n",
       "    }\n",
       "\n",
       "    .dataframe thead th {\n",
       "        text-align: right;\n",
       "    }\n",
       "</style>\n",
       "<table border=\"1\" class=\"dataframe\">\n",
       "  <thead>\n",
       "    <tr style=\"text-align: right;\">\n",
       "      <th></th>\n",
       "      <th>x1</th>\n",
       "      <th>x2</th>\n",
       "      <th>y</th>\n",
       "    </tr>\n",
       "  </thead>\n",
       "  <tbody>\n",
       "    <tr>\n",
       "      <th>0</th>\n",
       "      <td>34.623660</td>\n",
       "      <td>78.024693</td>\n",
       "      <td>0</td>\n",
       "    </tr>\n",
       "    <tr>\n",
       "      <th>1</th>\n",
       "      <td>30.286711</td>\n",
       "      <td>43.894998</td>\n",
       "      <td>0</td>\n",
       "    </tr>\n",
       "    <tr>\n",
       "      <th>2</th>\n",
       "      <td>35.847409</td>\n",
       "      <td>72.902198</td>\n",
       "      <td>0</td>\n",
       "    </tr>\n",
       "    <tr>\n",
       "      <th>3</th>\n",
       "      <td>60.182599</td>\n",
       "      <td>86.308552</td>\n",
       "      <td>1</td>\n",
       "    </tr>\n",
       "    <tr>\n",
       "      <th>4</th>\n",
       "      <td>79.032736</td>\n",
       "      <td>75.344376</td>\n",
       "      <td>1</td>\n",
       "    </tr>\n",
       "  </tbody>\n",
       "</table>\n",
       "</div>"
      ],
      "text/plain": [
       "          x1         x2   y\n",
       "0  34.623660  78.024693   0\n",
       "1  30.286711  43.894998   0\n",
       "2  35.847409  72.902198   0\n",
       "3  60.182599  86.308552   1\n",
       "4  79.032736  75.344376   1"
      ]
     },
     "execution_count": 11,
     "metadata": {},
     "output_type": "execute_result"
    }
   ],
   "source": [
    "#a few examples from the dataset \n",
    "data.head()"
   ]
  },
  {
   "cell_type": "code",
   "execution_count": 12,
   "metadata": {},
   "outputs": [
    {
     "data": {
      "text/html": [
       "<div>\n",
       "<style scoped>\n",
       "    .dataframe tbody tr th:only-of-type {\n",
       "        vertical-align: middle;\n",
       "    }\n",
       "\n",
       "    .dataframe tbody tr th {\n",
       "        vertical-align: top;\n",
       "    }\n",
       "\n",
       "    .dataframe thead th {\n",
       "        text-align: right;\n",
       "    }\n",
       "</style>\n",
       "<table border=\"1\" class=\"dataframe\">\n",
       "  <thead>\n",
       "    <tr style=\"text-align: right;\">\n",
       "      <th></th>\n",
       "      <th>x1</th>\n",
       "      <th>x2</th>\n",
       "      <th>y</th>\n",
       "    </tr>\n",
       "  </thead>\n",
       "  <tbody>\n",
       "    <tr>\n",
       "      <th>count</th>\n",
       "      <td>100.000000</td>\n",
       "      <td>100.000000</td>\n",
       "      <td>100.000000</td>\n",
       "    </tr>\n",
       "    <tr>\n",
       "      <th>mean</th>\n",
       "      <td>65.644274</td>\n",
       "      <td>66.221998</td>\n",
       "      <td>0.600000</td>\n",
       "    </tr>\n",
       "    <tr>\n",
       "      <th>std</th>\n",
       "      <td>19.458222</td>\n",
       "      <td>18.582783</td>\n",
       "      <td>0.492366</td>\n",
       "    </tr>\n",
       "    <tr>\n",
       "      <th>min</th>\n",
       "      <td>30.058822</td>\n",
       "      <td>30.603263</td>\n",
       "      <td>0.000000</td>\n",
       "    </tr>\n",
       "    <tr>\n",
       "      <th>25%</th>\n",
       "      <td>50.919511</td>\n",
       "      <td>48.179205</td>\n",
       "      <td>0.000000</td>\n",
       "    </tr>\n",
       "    <tr>\n",
       "      <th>50%</th>\n",
       "      <td>67.032988</td>\n",
       "      <td>67.682381</td>\n",
       "      <td>1.000000</td>\n",
       "    </tr>\n",
       "    <tr>\n",
       "      <th>75%</th>\n",
       "      <td>80.212529</td>\n",
       "      <td>79.360605</td>\n",
       "      <td>1.000000</td>\n",
       "    </tr>\n",
       "    <tr>\n",
       "      <th>max</th>\n",
       "      <td>99.827858</td>\n",
       "      <td>98.869436</td>\n",
       "      <td>1.000000</td>\n",
       "    </tr>\n",
       "  </tbody>\n",
       "</table>\n",
       "</div>"
      ],
      "text/plain": [
       "               x1          x2           y\n",
       "count  100.000000  100.000000  100.000000\n",
       "mean    65.644274   66.221998    0.600000\n",
       "std     19.458222   18.582783    0.492366\n",
       "min     30.058822   30.603263    0.000000\n",
       "25%     50.919511   48.179205    0.000000\n",
       "50%     67.032988   67.682381    1.000000\n",
       "75%     80.212529   79.360605    1.000000\n",
       "max     99.827858   98.869436    1.000000"
      ]
     },
     "execution_count": 12,
     "metadata": {},
     "output_type": "execute_result"
    }
   ],
   "source": [
    "data.describe()"
   ]
  },
  {
   "cell_type": "markdown",
   "metadata": {},
   "source": [
    "### Plot Data\n",
    "Create a scatter plot of data similar to Fig.1 (using plt.scatter). Students with higher test score for both exam were admitted into the university as expected.\n",
    "\n",
    "<img src=\"images/f1.png\" style=\"width:350px;height:250px;\">\n",
    "<caption><center> **Fig. 1** : **file ex2data1.txt** </center></caption>\n"
   ]
  },
  {
   "cell_type": "code",
   "execution_count": 18,
   "metadata": {},
   "outputs": [
    {
     "data": {
      "text/plain": [
       "<matplotlib.legend.Legend at 0x7fab40073490>"
      ]
     },
     "execution_count": 18,
     "metadata": {},
     "output_type": "execute_result"
    },
    {
     "data": {
      "image/png": "[encoded data removed]",
      "text/plain": [
       "<Figure size 432x288 with 1 Axes>"
      ]
     },
     "metadata": {
      "needs_background": "light"
     },
     "output_type": "display_data"
    }
   ],
   "source": [
    "pos=(y==1)\n",
    "neg=(y==0)\n",
    "plt.scatter(X[pos[:,0],0],X[pos[:,0],1],c=\"r\",marker=\"+\")\n",
    "plt.scatter(X[neg[:,0],0],X[neg[:,0],1],c=\"b\",marker=\"o\")\n",
    "plt.ylabel('Exam 2 Score')\n",
    "plt.xlabel('Exam 1 score')\n",
    "plt.legend(['Admitted', 'Not admitted'], loc=0)"
   ]
  },
  {
   "cell_type": "markdown",
   "metadata": {},
   "source": [
    "### Sigmoid function\n",
    "\n",
    "Complete *sigmoid* function that computes $ g(z) = \\frac{1}{(1+e^{-z})}$. \n"
   ]
  },
  {
   "cell_type": "code",
   "execution_count": 19,
   "metadata": {},
   "outputs": [],
   "source": [
    "def sigmoid(z):\n",
    "    \"\"\"\n",
    "    return the sigmoid of z\n",
    "    \"\"\"\n",
    "    \n",
    "    gz= 1/(1 + np.exp(-z))\n",
    "    \n",
    "    return gz"
   ]
  },
  {
   "cell_type": "code",
   "execution_count": 40,
   "metadata": {},
   "outputs": [
    {
     "data": {
      "text/plain": [
       "matrix([[0.5       , 0.73105858],\n",
       "        [0.88079708, 0.95257413]])"
      ]
     },
     "execution_count": 40,
     "metadata": {},
     "output_type": "execute_result"
    }
   ],
   "source": [
    "# Test the sigmoid function for z=0 => ANSWER =0.5 \n",
    "sigmoid(np.matrix('0 1; 2 3'))"
   ]
  },
  {
   "cell_type": "markdown",
   "metadata": {},
   "source": [
    "### Compute the Cost Function and Gradient\n",
    "\n",
    "Recall that the Logistic Regression model is defined as:    $h_{\\theta}(x^{(i)})=  \\frac{1}{1+e^{-\\theta (x^{(i)})}}$\n",
    "\n",
    "The cost function in Logistic Regression is: $J(\\theta) = \\frac{1}{m} \\sum_{i=1}^{m} [ -y^{(i)}log(h_{\\theta}(x^{(i)})) - (1 - y^{(i)})log(1 - (h_{\\theta}(x^{(i)}))]$\n",
    "\n",
    "The gradient of $J(\\theta)$ is a vector of the same length as $\\theta$  where the jth element (for j = 0, 1,…. n) is defined as:\n",
    "$ \\frac{\\partial J(\\theta)}{\\partial \\theta_j} = \\frac{1}{m} \\sum_{i=1}^{m} (h_{\\theta}(x^{(i)}) - y^{(i)})x_j^{(i)}$\n",
    "\n",
    "Complete function *costFunction* to return $J(\\theta)$ and the gradient ((partial derivative of $J(\\theta)$ with respect to each $\\theta$) for logistic regression. \n"
   ]
  },
  {
   "cell_type": "code",
   "execution_count": 119,
   "metadata": {},
   "outputs": [],
   "source": [
    "def costFunction(theta, X, y):\n",
    "    \"\"\"\n",
    "    Takes in numpy array theta, x and y and return the logistic regression cost function and gradient\n",
    "    \"\"\"\n",
    "    \n",
    "    #number of training examples \n",
    "    m=np.size(X,0)\n",
    "    \n",
    "    #vector of the model predictions for all training examples   \n",
    "    h = sigmoid(np.dot(X, theta))\n",
    "         \n",
    "    error = (np.multiply(-y, np.log(h))) - (np.multiply((1-y), np.log(1-h)))\n",
    "\n",
    "    #cost function\n",
    "    cost = 1/m * sum(error)\n",
    "       \n",
    "    #vector of gradients of all model parameters theta   \n",
    "    grad = 1/m * np.dot(X.transpose(),(h - y))\n",
    "\n",
    "    return cost[0].item(0,0) , grad"
   ]
  },
  {
   "cell_type": "markdown",
   "metadata": {},
   "source": [
    "\n",
    "### Feature normalization\n",
    "Apply the same normalization as in Lab 2 (PART 2 Multivariable Linear Regression). "
   ]
  },
  {
   "cell_type": "code",
   "execution_count": 45,
   "metadata": {},
   "outputs": [],
   "source": [
    "def featureNormalization(X):\n",
    "    \"\"\"\n",
    "    Take in numpy array of X values and return normalize X values,\n",
    "    the mean and standard deviation of each feature\n",
    "    \"\"\"\n",
    "    mean= np.mean(X, axis=0)\n",
    "    std= np.std(X, axis=0)\n",
    "    \n",
    "    X_norm =np.divide(np.subtract(X, mean), std)\n",
    "    \n",
    "    return X_norm , mean , std"
   ]
  },
  {
   "cell_type": "code",
   "execution_count": 120,
   "metadata": {},
   "outputs": [
    {
     "name": "stdout",
     "output_type": "stream",
     "text": [
      "Cost of initial theta is 0.693\n",
      "Gradient at initial theta (zeros): [[-0.1       ]\n",
      " [-0.28122914]\n",
      " [-0.25098615]]\n"
     ]
    }
   ],
   "source": [
    "#Run featureNormalization to normalize X, store the means and stds.\n",
    "\n",
    "X_, X_mean, X_std = featureNormalization(X)\n",
    "\n",
    "#After normalizing the features, add an extra column of 1's corresponding to x0 = 1.\n",
    "\n",
    "X_= np.append(np.ones(((np.size(X_,0)),1)), X_, axis=1)\n",
    "\n",
    "# Inicialize vector theta = 0\n",
    "initial_theta = np.matrix('0;0;0')\n",
    "#Run costFunction\n",
    "cost, grad= costFunction(initial_theta, X_, y)\n",
    "\n",
    "print(\"Cost of initial theta is\",round(cost,3) )   # ANSWER: Cost of initial theta is 0.693\n",
    "print(\"Gradient at initial theta (zeros):\",grad)  #ANSWER: Gradient at initial theta (zeros): [[-0.1 ] [-0.28122914] [-0.25098615]]"
   ]
  },
  {
   "cell_type": "markdown",
   "metadata": {},
   "source": [
    "### Gradient Descent\n",
    "Implement gradient descent in the function *gradientDescent*. \n",
    "The gradient descent algorithm is very similar to linear regression. \n",
    "\n",
    "The only difference is that the hypothesis is now the sigmoid function:  $h_{\\theta}(x)=  \\frac{1}{1+e^{-\\theta^T x}}$\n",
    "\n",
    "The loop structure is written, you need to supply the updates for $\\theta$  within each iteration."
   ]
  },
  {
   "cell_type": "code",
   "execution_count": 111,
   "metadata": {},
   "outputs": [],
   "source": [
    "def gradientDescent(X,y,theta,alpha,num_iters):\n",
    "    \"\"\"\n",
    "    Take in numpy array X, y and theta and update theta by taking num_iters gradient steps\n",
    "    with learning rate of alpha\n",
    "    \n",
    "    return theta and the list of the cost of theta during each iteration\n",
    "    \"\"\"\n",
    "    #number of training examples\n",
    "    m=len(y)\n",
    "    J_history =[]\n",
    "    \n",
    "    for i in range(num_iters):\n",
    "        cost, grad = costFunction(theta, X, y)\n",
    "        theta = theta - alpha*grad\n",
    "        J_history.append(cost)\n",
    "    \n",
    "    return theta , J_history"
   ]
  },
  {
   "cell_type": "code",
   "execution_count": 121,
   "metadata": {},
   "outputs": [
    {
     "name": "stdout",
     "output_type": "stream",
     "text": [
      "Theta optimized by gradient descent: [[1.50684266]\n",
      " [3.54336363]\n",
      " [3.29044192]]\n",
      "The cost for the optimized theta: 0.205\n"
     ]
    }
   ],
   "source": [
    "# Run gradientDescent with learning rate 0.5 and 400 iterations. \n",
    "\n",
    "theta , J_history = gradientDescent(X_, y, initial_theta, 0.5, 400)\n",
    "\n",
    "print(\"Theta optimized by gradient descent:\",theta)\n",
    "\n",
    "print(\"The cost for the optimized theta:\",round(J_history[-1],3))  #ANSWER: The cost for the optimized theta: 0.205"
   ]
  },
  {
   "cell_type": "markdown",
   "metadata": {},
   "source": [
    "### Plot the Cost Function \n",
    "Choose 400 iterations. Try different values of the learning  rate = [0.01, 0.1, 0.5, 1]\n",
    "and get plots similar to Fig. 2. \n",
    "\n",
    "<img src=\"images/f6.png\" style=\"width:350px;height:250px;\">\n",
    "<caption><center> **Fig. 2** : **Cost function evolution for varying learning rates ** </center></caption>"
   ]
  },
  {
   "cell_type": "code",
   "execution_count": 158,
   "metadata": {},
   "outputs": [
    {
     "name": "stdout",
     "output_type": "stream",
     "text": [
      "[0.693147180559946, 0.559403242545655, 0.4805876648533871, 0.43046342235936136, 0.39605647005498307, 0.3709669278894235, 0.35181143821554683, 0.3366625823479169, 0.3243484792498155, 0.31411698799771753, 0.3054632898746155, 0.2980357306412133, 0.29158158307561594, 0.2859143408821499, 0.2808932044202074, 0.2764097679797487, 0.2723791206465763, 0.2687337409240406, 0.2654192108626502, 0.2623911455046634, 0.2596129525785907, 0.2570541709629098, 0.2546892200293839, 0.25249644553195266, 0.2504573827607223, 0.24855618107480806, 0.24677914982076546, 0.2451143966177867, 0.24355153668345655, 0.24208145734126266, 0.24069612578706717, 0.23938843105923613, 0.2381520532694504, 0.23698135472344695, 0.2358712887425202, 0.23481732289271778, 0.23381537401406843, 0.2328617529706419, 0.23195311745280278, 0.23108643148423902, 0.23025893053940155, 0.2294680913776006, 0.2287116058600059, 0.2279873581441674, 0.22729340475420326, 0.22662795710875627, 0.22598936615723075, 0.2253761088308248, 0.22478677606094832, 0.22422006215565937, 0.2236747553563192, 0.22314972942295025, 0.22264393611874897, 0.22215639848264623, 0.2216862047943201, 0.22123250314918907, 0.22079449657201344, 0.22037143860719213, 0.21996262933189248, 0.21956741174504227, 0.21918516849112554, 0.21881531888279848, 0.2184573161907334, 0.218110645172875, 0.2177748198185831, 0.21744938128598004, 0.2171338960133081, 0.21682795398725663, 0.21653116715312212, 0.21624316795331638, 0.2159636079821895, 0.21569215674642495, 0.21542850052138052, 0.21517234129475238, 0.2149233957898178, 0.21468139456129284, 0.2144460811575306, 0.21421721134340815, 0.21399455237879092, 0.21377788234795836, 0.21356698953580247, 0.21336167184701565, 0.21316173626481663, 0.2129669983460899, 0.21277728175009017, 0.212592417798118, 0.2124122450617984, 0.2122366089778061, 0.2120653614870582, 0.21189836069657036, 0.21173547056231953, 0.2115765605915978, 0.21142150556346198, 0.2112701852660019, 0.21112248424924862, 0.2109782915926423, 0.21083750068605983, 0.2107000090234843, 0.21056571800846705, 0.21043453277059823, 0.21030636199226163, 0.21018111774500456, 0.21005871533490036, 0.20993907315633129, 0.20982211255365607, 0.20970775769026923, 0.20959593542459393, 0.20948657519257793, 0.20937960889630117, 0.20927497079831966, 0.2091725974214075, 0.20907242745337354, 0.2089744016566537, 0.20887846278240252, 0.2087845554888218, 0.20869262626348462, 0.2086026233494264, 0.20851449667479152, 0.2084281977858371, 0.20834367978310597, 0.20826089726059682, 0.2081798062477665, 0.2081003641542112, 0.20802252971688492, 0.20794626294971566, 0.20787152509549825, 0.20779827857993932, 0.20772648696774607, 0.20765611492065167, 0.2075871281572778, 0.20751949341474238, 0.20745317841192268, 0.20738815181429288, 0.2073243832002552, 0.20726184302889294, 0.20720050260907613, 0.20714033406985097, 0.20708131033205476, 0.20702340508109474, 0.20696659274083729, 0.20691084844855318, 0.20685614803087124, 0.20680246798069127, 0.20674978543501457, 0.2066980781536457, 0.20664732449873038, 0.2065975034150885, 0.20654859441130582, 0.20650057754155451, 0.2064534333881041, 0.20640714304449778, 0.2063616880993617, 0.20631705062081984, 0.2062732131414893, 0.20623015864403157, 0.2061878705472313, 0.20614633269258864, 0.20610552933139337, 0.20606544511226899, 0.2060260650691627, 0.20598737460976313, 0.20594935950432935, 0.20591200587491368, 0.20587530018496217, 0.20583922922927728, 0.2058037801243283, 0.20576894029889659, 0.20573469748503964, 0.2057010397093644, 0.2056679552845955, 0.20563543280142813, 0.20560346112065325, 0.2055720293655455, 0.20554112691450444, 0.20551074339393594, 0.20548086867137041, 0.20545149284880176, 0.2054226062562461, 0.2053941994455056, 0.20536626318413428, 0.2053387884495954, 0.20531176642360585, 0.20528518848665747, 0.2052590462127132, 0.20523333136406702, 0.2052080358863652, 0.2051831519037811, 0.20515867171433982, 0.2051345877853853, 0.20511089274918598, 0.20508757939867425, 0.2050646406833154, 0.2050420697050989, 0.20501985971465214, 0.2049980041074683, 0.2049764964202466, 0.20495533032734176, 0.20493449963731525, 0.20491399828958998, 0.2048938203512014, 0.20487396001364272, 0.20485441158980092, 0.20483516951098135, 0.2048162283240173, 0.20479758268846143, 0.20477922737385693, 0.20476115725708713, 0.20474336731979603, 0.20472585264588522, 0.2047086084190778, 0.2046916299205501, 0.20467491252663, 0.20465845170655744, 0.20464224302030637, 0.2046262821164665, 0.20461056473018255, 0.20459508668114787, 0.2045798438716552, 0.20456483228469535, 0.20455004798211002, 0.20453548710279326, 0.2045211458609387, 0.20450702054433478, 0.20449310751270425, 0.20447940319608734, 0.20446590409326576, 0.2044526067702301, 0.20443950785868406, 0.20442660405458896, 0.20441389211674563, 0.20440136886541127, 0.2043890311809528, 0.20437687600253335, 0.20436490032683272, 0.20435310120679986, 0.2043414757504363, 0.20433002111960946, 0.20431873452889737, 0.20430761324446012, 0.20429665458293972, 0.20428585591038748, 0.20427521464121726, 0.2042647282371845, 0.2042543942063896, 0.20424421010230656, 0.20423417352283352, 0.20422428210936755, 0.20421453354590127, 0.20420492555814043, 0.2041954559126428, 0.20418612241597853, 0.20417692291390882, 0.20416785529058476, 0.20415891746776485, 0.20415010740405112, 0.20414142309414257, 0.20413286256810587, 0.20412442389066393, 0.2041161051605004, 0.2041079045095786, 0.20409982010247948, 0.20409185013575118, 0.20408399283727602, 0.20407624646565004, 0.20406860930957813, 0.20406107968728088, 0.20405365594591746, 0.204046336461019, 0.20403911963593546, 0.20403200390129542, 0.2040249877144771, 0.2040180695590911, 0.20401124794447534, 0.20400452140520023, 0.20399788850058534, 0.20399134781422568, 0.20398489795352973, 0.2039785375492662, 0.2039722652551215, 0.20396607974726622, 0.2039599797239309, 0.20395396390499193, 0.20394803103156442, 0.20394217986560595, 0.20393640918952657, 0.20393071780580915, 0.2039251045366363, 0.2039195682235256, 0.2039141077269726, 0.20390872192610118, 0.20390340971832133, 0.20389817001899432, 0.2038930017611035, 0.2038879038949342, 0.2038828753877581, 0.20387791522352547, 0.2038730224025629, 0.203868195941278, 0.2038634348718689, 0.20385873824204148, 0.20385410511473065, 0.2038495345678287, 0.203845025693917, 0.2038405776000061, 0.203836189407279, 0.20383186025083916, 0.20382758927946576, 0.20382337565537165, 0.20381921855396726, 0.20381511716362877, 0.2038110706854716, 0.2038070783331267, 0.20380313933252298, 0.2037992529216739, 0.20379541835046636, 0.20379163488045657, 0.20378790178466677, 0.2037842183473887, 0.20378058386398937, 0.20377699764072088, 0.2037734589945334, 0.20376996725289356, 0.20376652175360313, 0.20376312184462528, 0.2037597668839101, 0.20375645623922609, 0.20375318928799463, 0.20374996541712556, 0.20374678402285887, 0.20374364451060645, 0.20374054629479954, 0.20373748879873665, 0.2037344714544356, 0.20373149370248872, 0.20372855499191936, 0.20372565478004265, 0.20372279253232659, 0.20371996772225928, 0.2037171798312146, 0.20371442834832298, 0.20371171277034442, 0.2037090326015417, 0.20370638735355928, 0.20370377654530103, 0.2037011997028122, 0.20369865635916412, 0.20369614605433783, 0.20369366833511415, 0.2036912227549617, 0.2036888088739301, 0.2036864262585427, 0.20368407448169265, 0.20368175312254097, 0.20367946176641524, 0.20367720000471085, 0.20367496743479394, 0.20367276365990652, 0.20367058828907234, 0.2036684409370046, 0.20366632122401665, 0.203664228775932, 0.20366216322399758, 0.20366012420479848, 0.20365811136017278, 0.20365612433712926, 0.203654162787767, 0.20365222636919353, 0.20365031474344852, 0.20364842757742485, 0.20364656454279373, 0.2036447253159301, 0.20364290957783915, 0.20364111701408483, 0.20363934731471836, 0.2036376001742098, 0.2036358752913781, 0.20363417236932588, 0.20363249111537188, 0.20363083124098677, 0.20362919246172925, 0.2036275744971832, 0.20362597707089586, 0.20362439991031772, 0.20362284274674242, 0.20362130531524833, 0.2036197873546408, 0.20361828860739606, 0.20361680881960437, 0.2036153477409165, 0.2036139051244886, 0.2036124807269306, 0.20361107430825282, 0.20360968563181536, 0.20360831446427788, 0.20360696057554947, 0.2036056237387401, 0.20360430373011304, 0.20360300032903733, 0.20360171331794108, 0.20360044248226664]\n"
     ]
    },
    {
     "data": {
      "image/png": "[encoded data removed]",
      "text/plain": [
       "<Figure size 432x288 with 1 Axes>"
      ]
     },
     "metadata": {
      "needs_background": "light"
     },
     "output_type": "display_data"
    }
   ],
   "source": [
    "lr=[0.01, 0.1, 0.5, 1]\n",
    "for l in lr:\n",
    "    theta , J_history = gradientDescent(X_, y, initial_theta, l, 400)\n",
    "    plt.plot(J_history)"
   ]
  },
  {
   "cell_type": "markdown",
   "metadata": {},
   "source": [
    "### Plotting the decision boundary\n",
    "   \n",
    "Our model is sigmoid function:  $h_{\\theta}(x)=  \\frac{1}{1+e^{-\\theta^T x}}$\n",
    "\n",
    "If $h_\\theta(x) > 0.5$ => predict class \"1\", that is $\\theta^Tx> 0$ => predict class \"1\"\n",
    "\n",
    "If $h_\\theta(x) < 0.5$ => predict class \"0\", that is $\\theta^Tx< 0$ => predict class \"0\" \n",
    "\n",
    "$\\theta^Tx = 0$  is the decision boundary. \n",
    "\n",
    "In this particular case $\\theta_0 + \\theta_1x_1 + \\theta_2x_2 = 0$ is the decision boundary-   \n",
    "\n",
    "Since, we plot $x_1$ against $x_2$, the boundary line will be the equation $ x_2 = \\frac{-(\\theta_0+\\theta_1x_1)}{\\theta_2}$\n",
    "\n",
    "Plot the data and the decision boundary. You should get a figure similar to Fig.3.\n",
    "\n",
    "<img src=\"images/f2.png\" style=\"width:350px;height:250px;\">\n",
    "<caption><center> **Fig. 3** : **Training data vs Decision boundary** </center></caption>"
   ]
  },
  {
   "cell_type": "code",
   "execution_count": 165,
   "metadata": {},
   "outputs": [
    {
     "name": "stdout",
     "output_type": "stream",
     "text": [
      "[matrix([[ 1.5119466, -2.3552853]])]\n"
     ]
    },
    {
     "data": {
      "text/plain": [
       "[<matplotlib.lines.Line2D at 0x7fab3f586f90>,\n",
       " <matplotlib.lines.Line2D at 0x7fab3fb96050>]"
      ]
     },
     "execution_count": 165,
     "metadata": {},
     "output_type": "execute_result"
    },
    {
     "data": {
      "image/png": "[encoded data removed]",
      "text/plain": [
       "<Figure size 432x288 with 1 Axes>"
      ]
     },
     "metadata": {
      "needs_background": "light"
     },
     "output_type": "display_data"
    }
   ],
   "source": [
    "#Create Fig.3 (using plt.scatter)\n",
    "\n",
    "#plt.scatter(X[pos[:,0],0],X[pos[:,0],1],c=\"r\",marker=\"+\")\n",
    "#plt.scatter(X[neg[:,0],0],X[neg[:,0],1],c=\"b\",marker=\"o\")\n",
    "#Sugestion how to plot the decision boundary (the green line)\n",
    "x_value= np.array([np.min(X_[:,1]),np.max(X_[:,1])])\n",
    "y_value=-(theta[0] +theta[1]*x_value)/theta[2]\n",
    "\n",
    "plt.plot(y_value.tolist())\n",
    "\n"
   ]
  },
  {
   "cell_type": "markdown",
   "metadata": {},
   "source": [
    "### Prediction\n",
    "\n",
    "For a student with Exam1 score of 45 and Exam2 score of 85, use the learned model to compute what is the admission probability of this student. The answer is around 77% probability (0.767). "
   ]
  },
  {
   "cell_type": "code",
   "execution_count": 141,
   "metadata": {},
   "outputs": [
    {
     "name": "stdout",
     "output_type": "stream",
     "text": [
      "For a student with scores 45 and 85, we predict an admission probability of [[0.76776289]]\n"
     ]
    }
   ],
   "source": [
    "x_test = np.array([45,85])\n",
    "#Normalize the values\n",
    "x_test = (x_test - X_mean)/X_std\n",
    "#Add one\n",
    "x_test = np.append(np.ones(1),x_test)\n",
    "#Compute the prediction (the probability for admission)\n",
    "prob = sigmoid(x_test.dot(theta))\n",
    "\n",
    "print(\"For a student with scores 45 and 85, we predict an admission probability of\",prob[0])"
   ]
  },
  {
   "cell_type": "markdown",
   "metadata": {},
   "source": [
    "### Accuracy on training set \n",
    "\n",
    "Evaluate how well the learned model predicts on the training set. \n",
    "\n",
    "Your task is to complete the function *classifierPredict*. \n",
    "\n",
    "The *classifierPredict* function returns a boolean array with True if the probability of admission into university is more than 0.5 and False otherwise. Taking the sum(p==y) adds up all instances where it correctly predicts the given y values (the labels)."
   ]
  },
  {
   "cell_type": "code",
   "execution_count": 142,
   "metadata": {},
   "outputs": [],
   "source": [
    "def classifierPredict(theta,X):\n",
    "    \"\"\"\n",
    "    take in numpy array of theta and X and predict the class \n",
    "    \"\"\"\n",
    "    predictions = X.dot(theta)\n",
    "    \n",
    "    return predictions>0"
   ]
  },
  {
   "cell_type": "code",
   "execution_count": 144,
   "metadata": {},
   "outputs": [
    {
     "name": "stdout",
     "output_type": "stream",
     "text": [
      "Train Accuracy: [[89]] %\n"
     ]
    }
   ],
   "source": [
    "p=classifierPredict(theta,X_)\n",
    "print(\"Train Accuracy:\", sum(p==y)[0],\"%\")  #ANSWER: Train Accuracy: 89 %"
   ]
  },
  {
   "cell_type": "code",
   "execution_count": null,
   "metadata": {},
   "outputs": [],
   "source": []
  }
 ],
 "metadata": {
  "kernelspec": {
   "display_name": "Python 3",
   "language": "python",
   "name": "python3"
  },
  "language_info": {
   "codemirror_mode": {
    "name": "ipython",
    "version": 3
   },
   "file_extension": ".py",
   "mimetype": "text/x-python",
   "name": "python",
   "nbconvert_exporter": "python",
   "pygments_lexer": "ipython3",
   "version": "3.7.6"
  }
 },
 "nbformat": 4,
 "nbformat_minor": 2
}
